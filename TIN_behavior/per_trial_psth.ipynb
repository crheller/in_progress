{
 "metadata": {
  "language_info": {
   "codemirror_mode": {
    "name": "ipython",
    "version": 3
   },
   "file_extension": ".py",
   "mimetype": "text/x-python",
   "name": "python",
   "nbconvert_exporter": "python",
   "pygments_lexer": "ipython3",
   "version": "3.7.4-final"
  },
  "orig_nbformat": 2,
  "kernelspec": {
   "name": "python_defaultSpec_1599518520340",
   "display_name": "Python 3.7.4 64-bit ('lbhb': conda)"
  }
 },
 "nbformat": 4,
 "nbformat_minor": 2,
 "cells": [
  {
   "cell_type": "code",
   "execution_count": null,
   "metadata": {
    "tags": []
   },
   "outputs": [],
   "source": [
    "from nems_lbhb.baphy_experiment import BAPHYExperiment\n",
    "import charlieTools.baphy_remote as br\n",
    "import charlieTools.noise_correlations as nc\n",
    "from charlieTools.plotting import compute_ellipse\n",
    "from sklearn.decomposition import PCA\n",
    "import nems.db as nd\n",
    "import os\n",
    "import numpy as np\n",
    "import matplotlib.pyplot as plt\n",
    "import matplotlib as mpl\n",
    "mpl.rcParams['axes.spines.right'] = False\n",
    "mpl.rcParams['axes.spines.top'] = False"
   ]
  },
  {
   "cell_type": "markdown",
   "metadata": {},
   "source": [
    "### Per-trial PSTHs\n",
    "* plot PSTH per trial for each behavior condition, aligned to catch, aligned to target, aligned to trial start. "
   ]
  },
  {
   "cell_type": "markdown",
   "metadata": {},
   "source": [
    "#### Options"
   ]
  },
  {
   "cell_type": "code",
   "execution_count": null,
   "metadata": {},
   "outputs": [],
   "source": [
    "site = 'CRD010b'\n",
    "options = {'resp': True, 'pupil': False, 'rasterfs': 100}\n",
    "\n",
    "trial_outcomes = ['HIT_TRIAL', 'MISS_TRIAL', 'CORRECT_REJECT_TRIAL', 'PASSIVE_EXPERIMENT']\n",
    "# could also do: FALSE_ALARM_TRIAL, INCORRECT_HIT_TRIAL\n",
    "\n",
    "# trial window (so can extract custom slices of data)\n",
    "trial_window = options['rasterfs'] * 4  # 4 seconds of data"
   ]
  },
  {
   "cell_type": "markdown",
   "metadata": {},
   "source": [
    "#### Load recording"
   ]
  },
  {
   "cell_type": "code",
   "execution_count": null,
   "metadata": {
    "tags": []
   },
   "outputs": [],
   "source": [
    "# get parmfiles\n",
    "sql = \"SELECT sCellFile.cellid, sCellFile.respfile, gDataRaw.resppath from sCellFile INNER JOIN\" \\\n",
    "            \" gCellMaster ON (gCellMaster.id=sCellFile.masterid) INNER JOIN\" \\\n",
    "            \" gDataRaw ON (sCellFile.rawid=gDataRaw.id)\" \\\n",
    "            \" WHERE gCellMaster.siteid=%s\" \\\n",
    "            \" and gDataRaw.runclass='TBP' and gDataRaw.bad=0\"\n",
    "d = nd.pd_query(sql, (site,))\n",
    "d['parmfile'] = [f.replace('.spk.mat', '.m') for f in d['respfile']]\n",
    "parmfiles = np.unique(np.sort([os.path.join(d['resppath'].iloc[i], d['parmfile'].iloc[i]) for i in range(d.shape[0])])).tolist()\n",
    "manager = BAPHYExperiment(parmfiles)\n",
    "rec = manager.get_recording(**options)\n",
    "rec['resp'] = rec['resp'].rasterize()"
   ]
  },
  {
   "cell_type": "markdown",
   "metadata": {},
   "source": [
    "#### Plot PSTHs\n",
    "* For each trial outcome, plot:\n",
    "    * per-neuron trial psth as heatmap\n",
    "    * average across neuron psth (pop. psth)\n",
    "    * psth along PC1\n",
    "    * along PC2\n",
    "    * in state-space (PC1 vs. PC2)"
   ]
  },
  {
   "cell_type": "code",
   "execution_count": null,
   "metadata": {},
   "outputs": [],
   "source": [
    "rt = rec.copy()\n",
    "rt = rt.and_mask('TRIAL')\n",
    "for to in trial_outcomes:\n",
    "\n",
    "    fig = plt.figure(figsize=(14, 8))\n",
    "    pn = plt.subplot2grid((3, 5), (0, 0), rowspan=3, colspan=2)\n",
    "    pop = plt.subplot2grid((3, 5), (0, 2), colspan=3)\n",
    "    pc1 = plt.subplot2grid((3, 5), (1, 2), colspan=3)\n",
    "    pc2 = plt.subplot2grid((3, 5), (2, 2), colspan=3)\n",
    "\n",
    "    r = rt.copy()\n",
    "    r = r.and_mask(to)\n",
    "\n",
    "    # single neuron psth\n",
    "    psth = r['resp'].extract_epoch('TRIAL', mask=r['mask'])\n",
    "    psth = np.nanmean(psth, axis=0)\n",
    "    pn.imshow(psth, aspect='auto', cmap='Reds')\n",
    "    pn.set_ylabel('Neuron')\n",
    "    pn.set_xlabel(f\"Trial time (binned at {options['rasterfs']} Hz)\")\n",
    "\n",
    "\n",
    "\n",
    "    pn.set_title(to, fontsize=14)\n",
    "\n",
    "    fig.tight_layout()\n"
   ]
  },
  {
   "cell_type": "code",
   "execution_count": null,
   "metadata": {},
   "outputs": [],
   "source": []
  }
 ]
}